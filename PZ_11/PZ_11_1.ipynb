{
  "nbformat": 4,
  "nbformat_minor": 0,
  "metadata": {
    "colab": {
      "name": "Untitled0.ipynb",
      "provenance": [],
      "authorship_tag": "ABX9TyNKbtnfNwhRdnMHAW658RJu",
      "include_colab_link": true
    },
    "kernelspec": {
      "name": "python3",
      "display_name": "Python 3"
    },
    "language_info": {
      "name": "python"
    }
  },
  "cells": [
    {
      "cell_type": "markdown",
      "metadata": {
        "id": "view-in-github",
        "colab_type": "text"
      },
      "source": [
        "<a href=\"https://colab.research.google.com/github/Adamdurgaran/Proj_1sem_durgaranadam/blob/main/PZ_11/PZ_11_1.ipynb\" target=\"_parent\"><img src=\"https://colab.research.google.com/assets/colab-badge.svg\" alt=\"Open In Colab\"/></a>"
      ]
    },
    {
      "cell_type": "markdown",
      "source": [
        ""
      ],
      "metadata": {
        "id": "naI_qnv_8oQj"
      }
    },
    {
      "cell_type": "markdown",
      "source": [
        "ПЗ_3.1 Даны три целых числа: A, B, C. Проверить истинность высказывания: «Хотя бы одно из чисел A, B, C положительное»."
      ],
      "metadata": {
        "id": "4ekS07mh8_n6"
      }
    },
    {
      "cell_type": "code",
      "source": [
        "a = input(\"Введите целое число A: \")\n",
        "while type(a) != int:\n",
        "    try:\n",
        "        a = int(a)\n",
        "    except ValueError:\n",
        "        print('Введено не целое число!')\n",
        "        a = input('Введите целое число A: ')\n",
        "\n",
        "b = input('Введите целое число B: ')\n",
        "while type(b) != int:\n",
        "    try:\n",
        "        b = int(b)\n",
        "    except ValueError:\n",
        "        print('Введено не целое число!')\n",
        "        b = input('Введите целое число B: ')\n",
        "\n",
        "c = input('Введите целое число C: ')\n",
        "while type(c) != int:\n",
        "    try:\n",
        "        c = int(c)\n",
        "    except ValueError:\n",
        "        print('Введено не целое число!')\n",
        "        c = input('Введите целое число C: ')\n",
        "\n",
        "if a >= 0 or b >= 0 or c >= 0:\n",
        "    print('В ряде есть хотя бы одно положительнoе числo.')\n",
        "else:\n",
        "    print('В ряде нет положительных чисел')\n",
        "    "
      ],
      "metadata": {
        "colab": {
          "base_uri": "https://localhost:8080/"
        },
        "id": "NaScHBFI79kz",
        "outputId": "cb06cbf2-ce5d-4474-d55d-bea551219b36"
      },
      "execution_count": 3,
      "outputs": [
        {
          "output_type": "stream",
          "name": "stdout",
          "text": [
            "Введите целое число A: 1\n",
            "Введите целое число B: 2\n",
            "Введите целое число C: 3\n",
            "В ряде есть хотя бы одно положительнoе числo.\n"
          ]
        }
      ]
    },
    {
      "cell_type": "markdown",
      "source": [
        "ПЗ_4.1 Найти A в степени N"
      ],
      "metadata": {
        "id": "O_eUub4f9UHm"
      }
    },
    {
      "cell_type": "code",
      "source": [
        "A = input('Введите вещественное число: ')\n",
        "while type(A) != float:\n",
        "    try:\n",
        "        A = float(A)\n",
        "    except ValueError:\n",
        "        print('Введено не вещественное число!')\n",
        "        A = input('Введите вещественное число: ')\n",
        "\n",
        "N = input('Введите целую положительную степень: ')\n",
        "while type(N) != int:\n",
        "    try:\n",
        "        N = int(N)\n",
        "    except ValueError:\n",
        "        print('Введена не целая положительная степень!')\n",
        "        N = input('Введите целую положительную степень: ')\n",
        "\n",
        "if N > 0:\n",
        "    i = 0\n",
        "    while i < N:\n",
        "        i += 1\n",
        "        A = A ** N\n",
        "        print(A)\n",
        "else:\n",
        "    print('Число N < 0!')"
      ],
      "metadata": {
        "colab": {
          "base_uri": "https://localhost:8080/"
        },
        "id": "qZumY9Yp9ZmC",
        "outputId": "5546ad74-be8e-4114-ac48-7a94f7ef08e0"
      },
      "execution_count": 5,
      "outputs": [
        {
          "output_type": "stream",
          "name": "stdout",
          "text": [
            "Введите вещественное число: 1\n",
            "Введите целую положительную степень: 2\n",
            "1.0\n",
            "1.0\n"
          ]
        }
      ]
    },
    {
      "cell_type": "markdown",
      "source": [
        "ПЗ_5.1 Найти сумму чисел ряда 1,2,3,...,60 с использованием функции нахождения суммы.\n",
        "Использовать локальные переменные."
      ],
      "metadata": {
        "id": "6F6qVyaB9xOa"
      }
    },
    {
      "cell_type": "code",
      "source": [
        "def function_sum(a, b):\n",
        "    sum = 0\n",
        "    while a <= b:\n",
        "        sum = sum + a\n",
        "        a = a + 1\n",
        "    return sum\n",
        "a = float(input('Введите первое число: '))\n",
        "b = float(input('Введите последнее число: '))\n",
        "s = function_sum(a, b)\n",
        "print('Сумма ряда чисел: ', s)"
      ],
      "metadata": {
        "colab": {
          "base_uri": "https://localhost:8080/"
        },
        "id": "KUBge0Bq96Ov",
        "outputId": "faee6121-b219-421e-dec2-a75c1b2adb2d"
      },
      "execution_count": 6,
      "outputs": [
        {
          "output_type": "stream",
          "name": "stdout",
          "text": [
            "Введите первое число: 1\n",
            "Введите последнее число: 2\n",
            "Сумма ряда чисел:  3.0\n"
          ]
        }
      ]
    }
  ]
}